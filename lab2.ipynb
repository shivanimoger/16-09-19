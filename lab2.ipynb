{
 "cells": [
  {
   "cell_type": "code",
   "execution_count": 1,
   "metadata": {},
   "outputs": [],
   "source": [
    "import csv"
   ]
  },
  {
   "cell_type": "code",
   "execution_count": 2,
   "metadata": {},
   "outputs": [],
   "source": [
    "def getDict(key, value):\n",
    "    d = dict()\n",
    "    for i in fields[:-1]:\n",
    "        if i == key:\n",
    "            d[key] = value\n",
    "        else:\n",
    "            d[i] = \"?\"\n",
    "    return d"
   ]
  },
  {
   "cell_type": "code",
   "execution_count": 3,
   "metadata": {},
   "outputs": [],
   "source": [
    "def validateGen(g, row):\n",
    "    for key,value in row.items():\n",
    "        if key == \"Result\":\n",
    "            continue\n",
    "        if len(g) > 0:\n",
    "            for i in range(len(g)):\n",
    "                if g[i][key] == value or g[i][key] == \"?\":\n",
    "                    continue\n",
    "                else:\n",
    "                    print(\"Used once\")\n",
    "                    del(g[i])\n",
    "\n"
   ]
  },
  {
   "cell_type": "code",
   "execution_count": 4,
   "metadata": {},
   "outputs": [],
   "source": [
    "\n",
    "\n",
    "def checkGen(g, row, res):\n",
    "    for k,v in row.items():\n",
    "        if k == \"Result\":\n",
    "            continue\n",
    "        if res[k] != \"?\" and res[k] != \"@\" and res[k]!=v:\n",
    "            d = getDict(k,res[k])\n",
    "            if d not in g:\n",
    "                g.append(d)\n",
    "\n"
   ]
  },
  {
   "cell_type": "code",
   "execution_count": 5,
   "metadata": {},
   "outputs": [],
   "source": [
    "fields = [\"Weather\",\"Temp\",\"Humidity\",\"Wind\",\"Water\",\"Forecast\",\"Result\"]\n",
    "res = {}\n",
    "g = []\n",
    "for i in fields[:-1]:\n",
    "    res[i] = \"@\""
   ]
  },
  {
   "cell_type": "code",
   "execution_count": 13,
   "metadata": {},
   "outputs": [
    {
     "name": "stdout",
     "output_type": "stream",
     "text": [
      "Used once\n"
     ]
    }
   ],
   "source": [
    "with open(\"2.csv\") as t:\n",
    "    data = csv.DictReader(t,fieldnames = fields)\n",
    "    for row in data:\n",
    "        if row[\"Result\"] == \"yes\":\n",
    "            for field in fields[:-1]:\n",
    "                if row[field] == res[field]:\n",
    "                    continue\n",
    "                elif res[field] == \"?\":\n",
    "                    continue\n",
    "                elif res[field] == \"@\" and row[field]!='':\n",
    "                    res[field] = row[field]\n",
    "                else:\n",
    "                    res[field] = \"?\"\n",
    "            validateGen(g, row)\n",
    "        if row[\"Result\"] == \"no\":\n",
    "            checkGen(g, row, res)"
   ]
  },
  {
   "cell_type": "code",
   "execution_count": null,
   "metadata": {},
   "outputs": [],
   "source": []
  },
  {
   "cell_type": "code",
   "execution_count": 14,
   "metadata": {},
   "outputs": [
    {
     "data": {
      "text/plain": [
       "{'Weather': 'sunny',\n",
       " 'Temp': 'warm',\n",
       " 'Humidity': '?',\n",
       " 'Wind': 'strong',\n",
       " 'Water': '?',\n",
       " 'Forecast': '?'}"
      ]
     },
     "execution_count": 14,
     "metadata": {},
     "output_type": "execute_result"
    }
   ],
   "source": [
    "res"
   ]
  },
  {
   "cell_type": "code",
   "execution_count": null,
   "metadata": {},
   "outputs": [],
   "source": []
  },
  {
   "cell_type": "code",
   "execution_count": 15,
   "metadata": {},
   "outputs": [
    {
     "data": {
      "text/plain": [
       "[{'Weather': 'sunny',\n",
       "  'Temp': '?',\n",
       "  'Humidity': '?',\n",
       "  'Wind': '?',\n",
       "  'Water': '?',\n",
       "  'Forecast': '?'},\n",
       " {'Weather': '?',\n",
       "  'Temp': 'warm',\n",
       "  'Humidity': '?',\n",
       "  'Wind': '?',\n",
       "  'Water': '?',\n",
       "  'Forecast': '?'}]"
      ]
     },
     "execution_count": 15,
     "metadata": {},
     "output_type": "execute_result"
    }
   ],
   "source": [
    "g"
   ]
  },
  {
   "cell_type": "code",
   "execution_count": null,
   "metadata": {},
   "outputs": [],
   "source": []
  },
  {
   "cell_type": "code",
   "execution_count": 16,
   "metadata": {},
   "outputs": [],
   "source": [
    "def generateInter(res, g):\n",
    "    inter = []\n",
    "    for key,value in res.items():\n",
    "        if value == '?':\n",
    "            continue\n",
    "        for gen in g:\n",
    "            for k,v in gen.items():\n",
    "                if key == k or v == '?':\n",
    "                    continue\n",
    "                d = getDict(key, value)\n",
    "                d[k] = v\n",
    "                if d not in inter:\n",
    "                    inter.append(d)\n",
    "    return inter"
   ]
  },
  {
   "cell_type": "code",
   "execution_count": null,
   "metadata": {},
   "outputs": [],
   "source": []
  },
  {
   "cell_type": "code",
   "execution_count": 17,
   "metadata": {},
   "outputs": [
    {
     "data": {
      "text/plain": [
       "[{'Weather': 'sunny',\n",
       "  'Temp': 'warm',\n",
       "  'Humidity': '?',\n",
       "  'Wind': '?',\n",
       "  'Water': '?',\n",
       "  'Forecast': '?'},\n",
       " {'Weather': 'sunny',\n",
       "  'Temp': '?',\n",
       "  'Humidity': '?',\n",
       "  'Wind': 'strong',\n",
       "  'Water': '?',\n",
       "  'Forecast': '?'},\n",
       " {'Weather': '?',\n",
       "  'Temp': 'warm',\n",
       "  'Humidity': '?',\n",
       "  'Wind': 'strong',\n",
       "  'Water': '?',\n",
       "  'Forecast': '?'}]"
      ]
     },
     "execution_count": 17,
     "metadata": {},
     "output_type": "execute_result"
    }
   ],
   "source": [
    "generateInter(res, g)\n"
   ]
  },
  {
   "cell_type": "code",
   "execution_count": null,
   "metadata": {},
   "outputs": [],
   "source": []
  },
  {
   "cell_type": "code",
   "execution_count": null,
   "metadata": {},
   "outputs": [],
   "source": []
  },
  {
   "cell_type": "code",
   "execution_count": null,
   "metadata": {},
   "outputs": [],
   "source": []
  }
 ],
 "metadata": {
  "kernelspec": {
   "display_name": "Python 3",
   "language": "python",
   "name": "python3"
  },
  "language_info": {
   "codemirror_mode": {
    "name": "ipython",
    "version": 3
   },
   "file_extension": ".py",
   "mimetype": "text/x-python",
   "name": "python",
   "nbconvert_exporter": "python",
   "pygments_lexer": "ipython3",
   "version": "3.6.5"
  }
 },
 "nbformat": 4,
 "nbformat_minor": 2
}
